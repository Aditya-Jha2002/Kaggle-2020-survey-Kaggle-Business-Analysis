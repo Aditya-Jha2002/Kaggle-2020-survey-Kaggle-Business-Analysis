{
 "cells": [
  {
   "cell_type": "code",
   "execution_count": 5,
   "metadata": {
    "_cell_guid": "b1076dfc-b9ad-4769-8c92-a6c4dae69d19",
    "_uuid": "8f2839f25d086af736a60e9eeb907d3b93b6e0e5"
   },
   "outputs": [
    {
     "name": "stdout",
     "output_type": "stream",
     "text": [
      "Requirement already satisfied: seaborn==0.11 in /Users/sunita/anaconda3/lib/python3.8/site-packages (0.11.0)\n",
      "Requirement already satisfied: matplotlib>=2.2 in /Users/sunita/anaconda3/lib/python3.8/site-packages (from seaborn==0.11) (3.2.2)\n",
      "Requirement already satisfied: pandas>=0.23 in /Users/sunita/anaconda3/lib/python3.8/site-packages (from seaborn==0.11) (1.0.5)\n",
      "Requirement already satisfied: scipy>=1.0 in /Users/sunita/anaconda3/lib/python3.8/site-packages (from seaborn==0.11) (1.5.0)\n",
      "Requirement already satisfied: numpy>=1.15 in /Users/sunita/anaconda3/lib/python3.8/site-packages (from seaborn==0.11) (1.19.4)\n",
      "Requirement already satisfied: python-dateutil>=2.1 in /Users/sunita/anaconda3/lib/python3.8/site-packages (from matplotlib>=2.2->seaborn==0.11) (2.8.1)\n",
      "Requirement already satisfied: pyparsing!=2.0.4,!=2.1.2,!=2.1.6,>=2.0.1 in /Users/sunita/anaconda3/lib/python3.8/site-packages (from matplotlib>=2.2->seaborn==0.11) (2.4.7)\n",
      "Requirement already satisfied: cycler>=0.10 in /Users/sunita/anaconda3/lib/python3.8/site-packages (from matplotlib>=2.2->seaborn==0.11) (0.10.0)\n",
      "Requirement already satisfied: kiwisolver>=1.0.1 in /Users/sunita/anaconda3/lib/python3.8/site-packages (from matplotlib>=2.2->seaborn==0.11) (1.2.0)\n",
      "Requirement already satisfied: pytz>=2017.2 in /Users/sunita/anaconda3/lib/python3.8/site-packages (from pandas>=0.23->seaborn==0.11) (2020.1)\n",
      "Requirement already satisfied: six>=1.5 in /Users/sunita/anaconda3/lib/python3.8/site-packages (from python-dateutil>=2.1->matplotlib>=2.2->seaborn==0.11) (1.15.0)\n"
     ]
    }
   ],
   "source": [
    "!pip install seaborn==0.11\n",
    "# This Python 3 environment comes with many helpful analytics libraries installed\n",
    "# It is defined by the kaggle/python Docker image: https://github.com/kaggle/docker-python\n",
    "# For example, here's several helpful packages to load\n",
    "\n",
    "import numpy as np # linear algebra\n",
    "import pandas as pd # data processing, CSV file I/O (e.g. pd.read_csv)\n",
    "\n",
    "# Input data files are available in the read-only \"../input/\" directory\n",
    "# For example, running this (by clicking run or pressing Shift+Enter) will list all files under the input directory\n",
    "\n",
    "import os\n",
    "for dirname, _, filenames in os.walk('./kaggle-survey-2020/input'):\n",
    "    for filename in filenames:\n",
    "        print(os.path.join(dirname, filename))\n",
    "\n",
    "# You can write up to 20GB to the current directory (/kaggle/working/) that gets preserved as output when you create a version using \"Save & Run All\" \n",
    "# You can also write temporary files to /kaggle/temp/, but they won't be saved outside of the current session\n"
   ]
  },
  {
   "cell_type": "code",
   "execution_count": 6,
   "metadata": {},
   "outputs": [],
   "source": [
    "\n",
    "import matplotlib as mpl\n",
    "import matplotlib.pyplot as plt\n",
    "import seaborn as sns\n",
    "from sklearn import preprocessing"
   ]
  },
  {
   "cell_type": "code",
   "execution_count": 10,
   "metadata": {
    "_cell_guid": "79c7e3d0-c299-4dcb-8224-4455121ee9b0",
    "_uuid": "d629ff2d2480ee46fbb7e2d37f6b5fab8052498a"
   },
   "outputs": [
    {
     "ename": "FileNotFoundError",
     "evalue": "[Errno 2] File ../input/kaggle-survey-2019/multiple_choice_responses.csv does not exist: '../input/kaggle-survey-2019/multiple_choice_responses.csv'",
     "output_type": "error",
     "traceback": [
      "\u001b[0;31m---------------------------------------------------------------------------\u001b[0m",
      "\u001b[0;31mFileNotFoundError\u001b[0m                         Traceback (most recent call last)",
      "\u001b[0;32m<ipython-input-10-f42bd368a1dc>\u001b[0m in \u001b[0;36m<module>\u001b[0;34m\u001b[0m\n\u001b[1;32m      1\u001b[0m \u001b[0mdata_20\u001b[0m \u001b[0;34m=\u001b[0m \u001b[0mpd\u001b[0m\u001b[0;34m.\u001b[0m\u001b[0mread_csv\u001b[0m\u001b[0;34m(\u001b[0m\u001b[0;34m'kaggle-survey-2020/kaggle_survey_2020_responses.csv'\u001b[0m\u001b[0;34m,\u001b[0m\u001b[0mlow_memory\u001b[0m\u001b[0;34m=\u001b[0m\u001b[0;32mFalse\u001b[0m\u001b[0;34m)\u001b[0m\u001b[0;34m\u001b[0m\u001b[0;34m\u001b[0m\u001b[0m\n\u001b[0;32m----> 2\u001b[0;31m \u001b[0mdata_19\u001b[0m \u001b[0;34m=\u001b[0m \u001b[0mpd\u001b[0m\u001b[0;34m.\u001b[0m\u001b[0mread_csv\u001b[0m\u001b[0;34m(\u001b[0m\u001b[0;34m'../input/kaggle-survey-2019/multiple_choice_responses.csv'\u001b[0m\u001b[0;34m,\u001b[0m\u001b[0mlow_memory\u001b[0m\u001b[0;34m=\u001b[0m\u001b[0;32mFalse\u001b[0m\u001b[0;34m)\u001b[0m\u001b[0;34m\u001b[0m\u001b[0;34m\u001b[0m\u001b[0m\n\u001b[0m\u001b[1;32m      3\u001b[0m \u001b[0mdata_18\u001b[0m \u001b[0;34m=\u001b[0m \u001b[0mpd\u001b[0m\u001b[0;34m.\u001b[0m\u001b[0mread_csv\u001b[0m\u001b[0;34m(\u001b[0m\u001b[0;34m'../input/kaggle-survey-2018/multipleChoiceResponses.csv'\u001b[0m\u001b[0;34m,\u001b[0m\u001b[0mlow_memory\u001b[0m\u001b[0;34m=\u001b[0m\u001b[0;32mFalse\u001b[0m\u001b[0;34m)\u001b[0m\u001b[0;34m\u001b[0m\u001b[0;34m\u001b[0m\u001b[0m\n",
      "\u001b[0;32m~/anaconda3/lib/python3.8/site-packages/pandas/io/parsers.py\u001b[0m in \u001b[0;36mparser_f\u001b[0;34m(filepath_or_buffer, sep, delimiter, header, names, index_col, usecols, squeeze, prefix, mangle_dupe_cols, dtype, engine, converters, true_values, false_values, skipinitialspace, skiprows, skipfooter, nrows, na_values, keep_default_na, na_filter, verbose, skip_blank_lines, parse_dates, infer_datetime_format, keep_date_col, date_parser, dayfirst, cache_dates, iterator, chunksize, compression, thousands, decimal, lineterminator, quotechar, quoting, doublequote, escapechar, comment, encoding, dialect, error_bad_lines, warn_bad_lines, delim_whitespace, low_memory, memory_map, float_precision)\u001b[0m\n\u001b[1;32m    674\u001b[0m         )\n\u001b[1;32m    675\u001b[0m \u001b[0;34m\u001b[0m\u001b[0m\n\u001b[0;32m--> 676\u001b[0;31m         \u001b[0;32mreturn\u001b[0m \u001b[0m_read\u001b[0m\u001b[0;34m(\u001b[0m\u001b[0mfilepath_or_buffer\u001b[0m\u001b[0;34m,\u001b[0m \u001b[0mkwds\u001b[0m\u001b[0;34m)\u001b[0m\u001b[0;34m\u001b[0m\u001b[0;34m\u001b[0m\u001b[0m\n\u001b[0m\u001b[1;32m    677\u001b[0m \u001b[0;34m\u001b[0m\u001b[0m\n\u001b[1;32m    678\u001b[0m     \u001b[0mparser_f\u001b[0m\u001b[0;34m.\u001b[0m\u001b[0m__name__\u001b[0m \u001b[0;34m=\u001b[0m \u001b[0mname\u001b[0m\u001b[0;34m\u001b[0m\u001b[0;34m\u001b[0m\u001b[0m\n",
      "\u001b[0;32m~/anaconda3/lib/python3.8/site-packages/pandas/io/parsers.py\u001b[0m in \u001b[0;36m_read\u001b[0;34m(filepath_or_buffer, kwds)\u001b[0m\n\u001b[1;32m    446\u001b[0m \u001b[0;34m\u001b[0m\u001b[0m\n\u001b[1;32m    447\u001b[0m     \u001b[0;31m# Create the parser.\u001b[0m\u001b[0;34m\u001b[0m\u001b[0;34m\u001b[0m\u001b[0;34m\u001b[0m\u001b[0m\n\u001b[0;32m--> 448\u001b[0;31m     \u001b[0mparser\u001b[0m \u001b[0;34m=\u001b[0m \u001b[0mTextFileReader\u001b[0m\u001b[0;34m(\u001b[0m\u001b[0mfp_or_buf\u001b[0m\u001b[0;34m,\u001b[0m \u001b[0;34m**\u001b[0m\u001b[0mkwds\u001b[0m\u001b[0;34m)\u001b[0m\u001b[0;34m\u001b[0m\u001b[0;34m\u001b[0m\u001b[0m\n\u001b[0m\u001b[1;32m    449\u001b[0m \u001b[0;34m\u001b[0m\u001b[0m\n\u001b[1;32m    450\u001b[0m     \u001b[0;32mif\u001b[0m \u001b[0mchunksize\u001b[0m \u001b[0;32mor\u001b[0m \u001b[0miterator\u001b[0m\u001b[0;34m:\u001b[0m\u001b[0;34m\u001b[0m\u001b[0;34m\u001b[0m\u001b[0m\n",
      "\u001b[0;32m~/anaconda3/lib/python3.8/site-packages/pandas/io/parsers.py\u001b[0m in \u001b[0;36m__init__\u001b[0;34m(self, f, engine, **kwds)\u001b[0m\n\u001b[1;32m    878\u001b[0m             \u001b[0mself\u001b[0m\u001b[0;34m.\u001b[0m\u001b[0moptions\u001b[0m\u001b[0;34m[\u001b[0m\u001b[0;34m\"has_index_names\"\u001b[0m\u001b[0;34m]\u001b[0m \u001b[0;34m=\u001b[0m \u001b[0mkwds\u001b[0m\u001b[0;34m[\u001b[0m\u001b[0;34m\"has_index_names\"\u001b[0m\u001b[0;34m]\u001b[0m\u001b[0;34m\u001b[0m\u001b[0;34m\u001b[0m\u001b[0m\n\u001b[1;32m    879\u001b[0m \u001b[0;34m\u001b[0m\u001b[0m\n\u001b[0;32m--> 880\u001b[0;31m         \u001b[0mself\u001b[0m\u001b[0;34m.\u001b[0m\u001b[0m_make_engine\u001b[0m\u001b[0;34m(\u001b[0m\u001b[0mself\u001b[0m\u001b[0;34m.\u001b[0m\u001b[0mengine\u001b[0m\u001b[0;34m)\u001b[0m\u001b[0;34m\u001b[0m\u001b[0;34m\u001b[0m\u001b[0m\n\u001b[0m\u001b[1;32m    881\u001b[0m \u001b[0;34m\u001b[0m\u001b[0m\n\u001b[1;32m    882\u001b[0m     \u001b[0;32mdef\u001b[0m \u001b[0mclose\u001b[0m\u001b[0;34m(\u001b[0m\u001b[0mself\u001b[0m\u001b[0;34m)\u001b[0m\u001b[0;34m:\u001b[0m\u001b[0;34m\u001b[0m\u001b[0;34m\u001b[0m\u001b[0m\n",
      "\u001b[0;32m~/anaconda3/lib/python3.8/site-packages/pandas/io/parsers.py\u001b[0m in \u001b[0;36m_make_engine\u001b[0;34m(self, engine)\u001b[0m\n\u001b[1;32m   1112\u001b[0m     \u001b[0;32mdef\u001b[0m \u001b[0m_make_engine\u001b[0m\u001b[0;34m(\u001b[0m\u001b[0mself\u001b[0m\u001b[0;34m,\u001b[0m \u001b[0mengine\u001b[0m\u001b[0;34m=\u001b[0m\u001b[0;34m\"c\"\u001b[0m\u001b[0;34m)\u001b[0m\u001b[0;34m:\u001b[0m\u001b[0;34m\u001b[0m\u001b[0;34m\u001b[0m\u001b[0m\n\u001b[1;32m   1113\u001b[0m         \u001b[0;32mif\u001b[0m \u001b[0mengine\u001b[0m \u001b[0;34m==\u001b[0m \u001b[0;34m\"c\"\u001b[0m\u001b[0;34m:\u001b[0m\u001b[0;34m\u001b[0m\u001b[0;34m\u001b[0m\u001b[0m\n\u001b[0;32m-> 1114\u001b[0;31m             \u001b[0mself\u001b[0m\u001b[0;34m.\u001b[0m\u001b[0m_engine\u001b[0m \u001b[0;34m=\u001b[0m \u001b[0mCParserWrapper\u001b[0m\u001b[0;34m(\u001b[0m\u001b[0mself\u001b[0m\u001b[0;34m.\u001b[0m\u001b[0mf\u001b[0m\u001b[0;34m,\u001b[0m \u001b[0;34m**\u001b[0m\u001b[0mself\u001b[0m\u001b[0;34m.\u001b[0m\u001b[0moptions\u001b[0m\u001b[0;34m)\u001b[0m\u001b[0;34m\u001b[0m\u001b[0;34m\u001b[0m\u001b[0m\n\u001b[0m\u001b[1;32m   1115\u001b[0m         \u001b[0;32melse\u001b[0m\u001b[0;34m:\u001b[0m\u001b[0;34m\u001b[0m\u001b[0;34m\u001b[0m\u001b[0m\n\u001b[1;32m   1116\u001b[0m             \u001b[0;32mif\u001b[0m \u001b[0mengine\u001b[0m \u001b[0;34m==\u001b[0m \u001b[0;34m\"python\"\u001b[0m\u001b[0;34m:\u001b[0m\u001b[0;34m\u001b[0m\u001b[0;34m\u001b[0m\u001b[0m\n",
      "\u001b[0;32m~/anaconda3/lib/python3.8/site-packages/pandas/io/parsers.py\u001b[0m in \u001b[0;36m__init__\u001b[0;34m(self, src, **kwds)\u001b[0m\n\u001b[1;32m   1889\u001b[0m         \u001b[0mkwds\u001b[0m\u001b[0;34m[\u001b[0m\u001b[0;34m\"usecols\"\u001b[0m\u001b[0;34m]\u001b[0m \u001b[0;34m=\u001b[0m \u001b[0mself\u001b[0m\u001b[0;34m.\u001b[0m\u001b[0musecols\u001b[0m\u001b[0;34m\u001b[0m\u001b[0;34m\u001b[0m\u001b[0m\n\u001b[1;32m   1890\u001b[0m \u001b[0;34m\u001b[0m\u001b[0m\n\u001b[0;32m-> 1891\u001b[0;31m         \u001b[0mself\u001b[0m\u001b[0;34m.\u001b[0m\u001b[0m_reader\u001b[0m \u001b[0;34m=\u001b[0m \u001b[0mparsers\u001b[0m\u001b[0;34m.\u001b[0m\u001b[0mTextReader\u001b[0m\u001b[0;34m(\u001b[0m\u001b[0msrc\u001b[0m\u001b[0;34m,\u001b[0m \u001b[0;34m**\u001b[0m\u001b[0mkwds\u001b[0m\u001b[0;34m)\u001b[0m\u001b[0;34m\u001b[0m\u001b[0;34m\u001b[0m\u001b[0m\n\u001b[0m\u001b[1;32m   1892\u001b[0m         \u001b[0mself\u001b[0m\u001b[0;34m.\u001b[0m\u001b[0munnamed_cols\u001b[0m \u001b[0;34m=\u001b[0m \u001b[0mself\u001b[0m\u001b[0;34m.\u001b[0m\u001b[0m_reader\u001b[0m\u001b[0;34m.\u001b[0m\u001b[0munnamed_cols\u001b[0m\u001b[0;34m\u001b[0m\u001b[0;34m\u001b[0m\u001b[0m\n\u001b[1;32m   1893\u001b[0m \u001b[0;34m\u001b[0m\u001b[0m\n",
      "\u001b[0;32mpandas/_libs/parsers.pyx\u001b[0m in \u001b[0;36mpandas._libs.parsers.TextReader.__cinit__\u001b[0;34m()\u001b[0m\n",
      "\u001b[0;32mpandas/_libs/parsers.pyx\u001b[0m in \u001b[0;36mpandas._libs.parsers.TextReader._setup_parser_source\u001b[0;34m()\u001b[0m\n",
      "\u001b[0;31mFileNotFoundError\u001b[0m: [Errno 2] File ../input/kaggle-survey-2019/multiple_choice_responses.csv does not exist: '../input/kaggle-survey-2019/multiple_choice_responses.csv'"
     ]
    }
   ],
   "source": [
    "data_20 = pd.read_csv('kaggle-survey-2020/kaggle_survey_2020_responses.csv',low_memory=False)\n",
    "data_19 = pd.read_csv('../input/kaggle-survey-2019/multiple_choice_responses.csv',low_memory=False)\n",
    "data_18 = pd.read_csv('../input/kaggle-survey-2018/multipleChoiceResponses.csv',low_memory=False)"
   ]
  },
  {
   "cell_type": "code",
   "execution_count": null,
   "metadata": {},
   "outputs": [],
   "source": [
    "for i in range(395):\n",
    "    print(data_18.columns[i])\n",
    "    print(data_18.iloc[0,i])\n",
    "    print('\\n')"
   ]
  },
  {
   "cell_type": "code",
   "execution_count": null,
   "metadata": {},
   "outputs": [],
   "source": [
    "for i in range(355):\n",
    "    print(data_20.columns[i])\n",
    "    print(data_20.iloc[0,i])\n",
    "    print('\\n')"
   ]
  },
  {
   "cell_type": "code",
   "execution_count": null,
   "metadata": {},
   "outputs": [],
   "source": [
    "for i in range(355):\n",
    "    print(data_19.columns[i])\n",
    "    print(data_19.iloc[0,i])\n",
    "    print('\\n')"
   ]
  },
  {
   "cell_type": "code",
   "execution_count": null,
   "metadata": {},
   "outputs": [],
   "source": [
    "Questions_20 = data_20.iloc[0]\n",
    "data_20 = data_20.iloc[1:]\n",
    "Questions_18 = data_18.iloc[0]\n",
    "data_18 = data_18.iloc[1:]\n",
    "Questions_19 = data_19.iloc[0]\n",
    "data_19 = data_19.iloc[1:]"
   ]
  },
  {
   "cell_type": "markdown",
   "metadata": {},
   "source": [
    "# **KAGGLE vs THE ODDs**\n",
    "\n",
    "I just recently joined kaggle and it has just been 8 months since i started learning data science, and Kaggle has been a very deep part of that journey \n",
    "\n",
    "Kaggle allows users to find and publish data sets, explore and build models in a web-based data-science environment, work with other data scientists and machine learning engineers, and enter competitions to solve data science challenges.\n",
    "\n",
    "But how much better is it doing versus its competition in terms of the different services it provides\n",
    "* As a Hosted Notebook?\n",
    "* As a Media Source which reports on data science topics?\n",
    "* As a MOOC?\n",
    "* As a place to share and store Dataset?\n",
    "* As a place to share and deploy machine learning applications and data analysis\n",
    "\n",
    "Unfortunately, the 4th question cannot be answered, as the 2020 kaggle survey did not have a question like that, but nevertheless we can come to a finding for the other question\n"
   ]
  },
  {
   "cell_type": "markdown",
   "metadata": {},
   "source": [
    "# **As a Hosted Notebook Products?****"
   ]
  },
  {
   "cell_type": "code",
   "execution_count": null,
   "metadata": {},
   "outputs": [],
   "source": [
    "Q10 = []\n",
    "Q10_values = []\n",
    "\n",
    "\n",
    "for x in range(1,13):\n",
    "    Q10.append(data['Q10_Part_'+str(x)].dropna().unique()[0])\n",
    "Q10.append(data['Q10_OTHER'].dropna().unique()[0])\n",
    "\n",
    "\n",
    "for y in range(1,13):\n",
    "    Q10_values.append(data['Q10_Part_'+str(y)].dropna().count())\n",
    "Q10_values.append(data['Q10_OTHER'].dropna().count())\n",
    "                     \n",
    "plt.figure(figsize=(15,15))\n",
    "sns.set_style('dark')\n",
    "sns.barplot(x=Q10,y=Q10_values,data=data,color='#404788FF')\n",
    "ax=plt.gca()\n",
    "\n",
    "ax.get_children()[0].set_color('#440154FF')\n",
    "plt.xticks(rotation='vertical')\n",
    "ax.get_children()[1].set_color('#238A8DFF')\n",
    "ax.get_children()[4].set_color('#55C667FF')\n"
   ]
  },
  {
   "cell_type": "code",
   "execution_count": null,
   "metadata": {},
   "outputs": [],
   "source": [
    "\n",
    "\n",
    "#Cleaning 2018 data\n",
    "replace = {\"Q14_Part_1\" : {'Kaggle Kernels':' Kaggle Notebooks'},\n",
    "           \"Q14_Part_2\" : {'Google Colab' : 'Colab Notebooks'},\n",
    "           \"Q14_Part_9\" : {'JupyterHub/Binder': ' Binder / JupyterHub '}\n",
    "            }\n",
    "data_18.replace(replace,inplace=True)\n",
    "\n",
    "#Working with the 2018 Data\n",
    "\n",
    "Q1018 = []\n",
    "Q1018_values = []\n",
    "\n",
    "\n",
    "for x in range(1,3):\n",
    "    Q1018.append(data_18['Q14_Part_'+str(x)].dropna().unique()[0])\n",
    "Q1018.append(data_18['Q14_Part_9'].dropna().unique()[0])\n",
    "\n",
    "\n",
    "\n",
    "for y in range(1,3):\n",
    "    Q1018_values.append(data_18['Q14_Part_'+str(y)].dropna().count())\n",
    "Q1018_values.append(data_18['Q14_Part_9'].dropna().count())\n",
    "    \n",
    "#Cleaning 2019 data\n",
    "replace = {\"Q17_Part_1\" : {' Kaggle Notebooks (Kernels) ':' Kaggle Notebooks'},\n",
    "           \"Q17_Part_2\" : {' Google Colab ' : 'Colab Notebooks'}\n",
    "            }\n",
    "data_19.replace(replace,inplace=True)\n",
    "\n",
    "#Working with 2019 Graph    \n",
    "Q1019 = []\n",
    "Q1019_values = []\n",
    "\n",
    "\n",
    "for x in range(1,3):\n",
    "    Q1019.append(data_19['Q17_Part_'+str(x)].dropna().unique()[0])\n",
    "Q1019.append(data_19['Q17_Part_7'].dropna().unique()[0])\n",
    "\n",
    "\n",
    "for y in range(1,3):\n",
    "    Q1019_values.append(data_19['Q17_Part_'+str(y)].dropna().count())  \n",
    "Q1019_values.append(data_19['Q17_Part_7'].dropna().count())\n",
    "\n",
    "#Working with the 2020 data\n",
    "Q10 = []\n",
    "Q10_values = []\n",
    "\n",
    "\n",
    "for x in range(1,3):\n",
    "    Q10.append(data_20['Q10_Part_'+str(x)].dropna().unique()[0])\n",
    "Q10.append(data_20['Q10_Part_5'].dropna().unique()[0])\n",
    "\n",
    "\n",
    "for y in range(1,3):\n",
    "    Q10_values.append(data_20['Q10_Part_'+str(y)].dropna().count())\n",
    "Q10_values.append(data_20['Q10_Part_5'].dropna().count())"
   ]
  },
  {
   "cell_type": "code",
   "execution_count": null,
   "metadata": {},
   "outputs": [],
   "source": [
    "Q1019_values"
   ]
  },
  {
   "cell_type": "code",
   "execution_count": null,
   "metadata": {},
   "outputs": [],
   "source": [
    "plt.figure(figsize=(15,15))\n",
    "sns.set_style('dark')\n",
    "\n",
    "#Plotting the 2018 Graph\n",
    "plt.bar(x=Q10,height=Q1018_values,color='#55C667FF',width=0.3)\n",
    "plt.xticks(rotation='vertical')\n",
    "\n",
    "\n",
    "#getting the location of ticks and setting up for the next bars\n",
    "locs, label = plt.xticks()\n",
    "\n",
    "new_xvals1 = []   \n",
    "\n",
    "for item in locs:\n",
    "    new_xvals1.append(item+0.3)\n",
    "    \n",
    "\n",
    "#Plotting the 2019 Graph\n",
    "plt.bar(x=new_xvals1,height=Q1019_values,color='#238A8DFF',width=0.3)\n",
    " \n",
    "#setting up for the next bars    \n",
    "new_xvals2 = []   \n",
    "\n",
    "for item in locs:\n",
    "    new_xvals2.append(item+0.6)\n",
    "\n",
    "#Plotting the 2020 Graph                     \n",
    "\n",
    "plt.bar(x=new_xvals2,height=Q10_values,color='#440154FF',width=0.3)\n",
    "ax=plt.gca()\n",
    "plt.xticks(rotation='vertical')\n",
    "\n",
    "fig = plt.gcf()"
   ]
  },
  {
   "cell_type": "code",
   "execution_count": null,
   "metadata": {},
   "outputs": [],
   "source": [
    "data_20.head(3)\n",
    "data_20['count']=1\n",
    "plt.subplot(1,3,1)\n",
    "pivot = pd.pivot_table(data_20,values='count',index='Q6',columns=['Q10_Part_1'], aggfunc=sum)\n",
    "sns.heatmap(pivot,linewidth=0.3,cbar=False,annot =True,fmt='d',cmap='viridis_r')\n",
    "plt.subplot(1,3,2)\n",
    "pivot = pd.pivot_table(data_20,values='count',index='Q6',columns=['Q10_Part_2'], aggfunc=sum)\n",
    "sns.heatmap(pivot,linewidth=0.3,cbar=False,annot =True,fmt='d',cmap='viridis_r')\n",
    "ax=plt.gca()\n",
    "ax.tick_params(left=False,labelleft=False)\n",
    "plt.subplot(1,3,3)\n",
    "pivot = pd.pivot_table(data_20,values='count',index='Q6',columns=['Q10_Part_3'], aggfunc=sum)\n",
    "sns.heatmap(pivot,linewidth=0.3,cbar=False,annot =True,fmt='d',cmap='viridis_r')\n",
    "ax=plt.gca()\n",
    "ax.tick_params(left=False,labelleft=False)\n"
   ]
  },
  {
   "cell_type": "code",
   "execution_count": null,
   "metadata": {},
   "outputs": [],
   "source": [
    "pivot = pd.pivot_table(data_20,values='count',columns=['Q6'],index=['Q10_Part_2'], aggfunc=sum)\n",
    "pivot"
   ]
  },
  {
   "cell_type": "markdown",
   "metadata": {},
   "source": [
    "# **Favourite Media source to learn about macine learning**"
   ]
  },
  {
   "cell_type": "code",
   "execution_count": null,
   "metadata": {},
   "outputs": [],
   "source": [
    "Q39 = []\n",
    "Q39_values = []\n",
    "\n",
    "\n",
    "for x in range(1,11):\n",
    "    Q39.append(data['Q39_Part_'+str(x)].dropna().unique()[0])\n",
    "Q39.append(data['Q39_OTHER'].dropna().unique()[0])\n",
    "\n",
    "\n",
    "for y in range(1,11):\n",
    "    Q39_values.append(data['Q39_Part_'+str(y)].dropna().count())\n",
    "Q39_values.append(data['Q39_OTHER'].dropna().count())\n",
    "                     \n",
    "plt.figure(figsize=(15,15))\n",
    "sns.set_style('dark')\n",
    "sns.barplot(x=Q39,y=Q39_values,data=data,color='#404788FF')\n",
    "ax=plt.gca()\n",
    "\n",
    "ax.get_children()[3].set_color('#440154FF')\n",
    "ax.get_children()[5].set_color('#238A8DFF')\n",
    "ax.get_children()[7].set_color('#55C667FF')\n",
    "plt.xticks(rotation='vertical')"
   ]
  },
  {
   "cell_type": "markdown",
   "metadata": {},
   "source": [
    "# **Favourite MOOC**"
   ]
  },
  {
   "cell_type": "code",
   "execution_count": null,
   "metadata": {},
   "outputs": [],
   "source": [
    "Q37 = []\n",
    "Q37_values = []\n",
    "\n",
    "\n",
    "for x in range(1,12):\n",
    "    Q37.append(data['Q37_Part_'+str(x)].dropna().unique()[0])\n",
    "Q37.append(data['Q37_OTHER'].dropna().unique()[0])\n",
    "\n",
    "\n",
    "for y in range(1,12):\n",
    "    Q37_values.append(data['Q37_Part_'+str(y)].dropna().count())\n",
    "Q37_values.append(data['Q37_OTHER'].dropna().count())\n",
    "                     \n",
    "plt.figure(figsize=(15,15))\n",
    "sns.set_style('dark')\n",
    "sns.barplot(x=Q37,y=Q37_values,data=data,color='#404788FF')\n",
    "ax=plt.gca()\n",
    "\n",
    "ax.get_children()[0].set_color('#440154FF')\n",
    "ax.get_children()[2].set_color('#238A8DFF')\n",
    "ax.get_children()[6].set_color('#55C667FF')\n",
    "ax.get_children()[0].set_label('Python')\n",
    "plt.xticks(rotation='vertical')"
   ]
  },
  {
   "cell_type": "code",
   "execution_count": null,
   "metadata": {},
   "outputs": [],
   "source": [
    "Q36 = []\n",
    "Q36_values = []\n",
    "\n",
    "\n",
    "for x in range(1,9):\n",
    "    Q36.append(data['Q36_Part_'+str(x)].dropna().unique()[0])\n",
    "Q36.append(data['Q36_OTHER'].dropna().unique()[0])\n",
    "\n",
    "\n",
    "for y in range(1,9):\n",
    "    Q36_values.append(data['Q36_Part_'+str(y)].dropna().count())\n",
    "Q36_values.append(data['Q36_OTHER'].dropna().count())\n",
    "                     \n",
    "plt.figure(figsize=(15,15))\n",
    "sns.set_style('dark')\n",
    "sns.barplot(x=Q36,y=Q36_values,data=data,color='#404788FF')\n",
    "ax=plt.gca()\n",
    "\n",
    "ax.get_children()[3].set_color('#440154FF')\n",
    "ax.get_children()[5].set_color('#238A8DFF')\n",
    "ax.get_children()[6].set_color('#55C667FF')\n",
    "plt.xticks(rotation='vertical')"
   ]
  }
 ],
 "metadata": {
  "kernelspec": {
   "display_name": "Python 3",
   "language": "python",
   "name": "python3"
  },
  "language_info": {
   "codemirror_mode": {
    "name": "ipython",
    "version": 3
   },
   "file_extension": ".py",
   "mimetype": "text/x-python",
   "name": "python",
   "nbconvert_exporter": "python",
   "pygments_lexer": "ipython3",
   "version": "3.8.3"
  }
 },
 "nbformat": 4,
 "nbformat_minor": 4
}
